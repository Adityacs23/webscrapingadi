{
  "nbformat": 4,
  "nbformat_minor": 0,
  "metadata": {
    "colab": {
      "name": "Scraping amazon us",
      "provenance": [],
      "collapsed_sections": [],
      "authorship_tag": "ABX9TyMmWsIlcKbhLP5VCNdD/uHo",
      "include_colab_link": true
    },
    "kernelspec": {
      "name": "python3",
      "display_name": "Python 3"
    },
    "language_info": {
      "name": "python"
    }
  },
  "cells": [
    {
      "cell_type": "markdown",
      "metadata": {
        "id": "view-in-github",
        "colab_type": "text"
      },
      "source": [
        "<a href=\"https://colab.research.google.com/github/Adityacs23/webscrapingadi/blob/main/Scraping_amazon_us.ipynb\" target=\"_parent\"><img src=\"https://colab.research.google.com/assets/colab-badge.svg\" alt=\"Open In Colab\"/></a>"
      ]
    },
    {
      "cell_type": "code",
      "execution_count": null,
      "metadata": {
        "colab": {
          "base_uri": "https://localhost:8080/"
        },
        "id": "0QhPlXXvyCdq",
        "outputId": "b5c86d3c-d11b-4b60-8137-3779ee272d12"
      },
      "outputs": [
        {
          "output_type": "stream",
          "name": "stdout",
          "text": [
            "Requirement already satisfied: autoscraper in /usr/local/lib/python3.7/dist-packages (1.1.12)\n",
            "Requirement already satisfied: bs4 in /usr/local/lib/python3.7/dist-packages (from autoscraper) (0.0.1)\n",
            "Requirement already satisfied: lxml in /usr/local/lib/python3.7/dist-packages (from autoscraper) (4.2.6)\n",
            "Requirement already satisfied: requests in /usr/local/lib/python3.7/dist-packages (from autoscraper) (2.23.0)\n",
            "Requirement already satisfied: beautifulsoup4 in /usr/local/lib/python3.7/dist-packages (from bs4->autoscraper) (4.6.3)\n",
            "Requirement already satisfied: chardet<4,>=3.0.2 in /usr/local/lib/python3.7/dist-packages (from requests->autoscraper) (3.0.4)\n",
            "Requirement already satisfied: idna<3,>=2.5 in /usr/local/lib/python3.7/dist-packages (from requests->autoscraper) (2.10)\n",
            "Requirement already satisfied: urllib3!=1.25.0,!=1.25.1,<1.26,>=1.21.1 in /usr/local/lib/python3.7/dist-packages (from requests->autoscraper) (1.24.3)\n",
            "Requirement already satisfied: certifi>=2017.4.17 in /usr/local/lib/python3.7/dist-packages (from requests->autoscraper) (2021.10.8)\n"
          ]
        }
      ],
      "source": [
        "!pip install autoscraper\n",
        "from autoscraper import AutoScraper"
      ]
    },
    {
      "cell_type": "code",
      "source": [
        "\n",
        "amazon_url=\"https://www.amazon.in/s?k=headphones\"\n",
        "\n",
        "wanted_list=[\"₹799\",\"boAt Bassheads 900 Wired On Ear Headphones with Mic (Carbon Black)\",\n",
        "\"72,773\"]"
      ],
      "metadata": {
        "id": "Sw5948f80Lak"
      },
      "execution_count": null,
      "outputs": []
    },
    {
      "cell_type": "code",
      "source": [
        "scraper=AutoScraper()\n",
        "result=scraper.build(amazon_url,wanted_list)\n",
        "print(result)"
      ],
      "metadata": {
        "colab": {
          "base_uri": "https://localhost:8080/"
        },
        "id": "JEgonpdt22sx",
        "outputId": "3820f9e5-9463-4181-a3e1-3d707da7828a"
      },
      "execution_count": null,
      "outputs": [
        {
          "output_type": "stream",
          "name": "stdout",
          "text": [
            "['₹799', '₹1,495', 'Amazon\\'s Choicefor \"headphones\"', 'boAt Bassheads 900 Wired On Ear Headphones with Mic (Carbon Black)', '131 Airdopes Stereo Heaset', 'Best sellerin On-Ear Headphones', 'boAt Rockerz 450 Bluetooth Wireless On Ear Headphone with Mic (Luscious Black)', 'boAt Rockerz 370 Bluetooth Wireless On Ear Headphone with Mic (Buoyant Black)', 'pTron Pride Lite HBE (High Bass Earphones) in-Ear Wired Headphones with in-line Mic, 10mm Powerful Driver for Stereo Audio, Noise Cancelling Headset with 1.2m Tangle-Free Cable & 3.5mm Aux (Gray)', 'boAt Rockerz 510 Wireless Bluetooth On Ear Headphones with Mic (Raging Red)', 'boAt Rockerz 550 Bluetooth Wireless Over Ear Headphone with Mic (Black)', 'boAt Rockerz 550 Bluetooth Wireless Over Ear Headphone with Mic (Black Symphony)', 'ZEBRONICS Zeb-Thunder Wireless Bluetooth Over The Ear Headphone, FM, mSD, 9 hrs Playback with Mic (Blue)', 'Sony MDR-ZX110A Wired On Ear Headphone without Mic (White)', 'boAt Rockerz 450 Bluetooth Wireless On Ear Headphone with Mic (Aqua Blue)', 'boAt Rockerz 370 Bluetooth Wireless On Ear Headphones with Mic Gregarious Green', 'pTron Bassbuds Duo New Bluetooth 5.1 Wireless Headphones, 32Hrs Total Playtime, Stereo Audio, Touch Control TWS, Dual HD Mic, Type-C Fast Charging, IPX4 Water-Resistant & Voice Assistance (Black)', 'pTron Pride Lite HBE (High Bass Earphones) in-Ear Wired Headphones with in-line Mic, 10mm Powerful Driver for Stereo Audio, Noise Cancelling Headset with 1.2m Tangle-Free Cable & 3.5mm Aux - (Blue)', 'pTron Tangent Lite Bluetooth 5.0 Wireless Headphones with Hi-Fi Stereo Sound, 8Hrs Playtime, Lightweight Ergonomic Neckband, Sweat-Resistant Magnetic Earbuds, Voice Assistant & Mic - (Black)', 'pTron Tangentbeat Bluetooth 5.0 Wireless Headphones with Deep Bass, Ergonomic Design, IPX4 Sweat/Waterproof Neckband, Magnetic Earbuds, Voice Assistant, Passive Noise Cancelation & Mic - (Black)', 'pTron Pride Lite HBE (High Bass Earphones) in-Ear Wired Headphones with in-line Mic, 10mm Powerful Driver for Stereo Audi...', 'pTron Bassbuds Duo New Bluetooth 5.1 Wireless Headphones, 32Hrs Total Playtime, Stereo Audio, Touch Control TWS, Dual HD M...', 'pTron Tangent Lite Bluetooth 5.0 Wireless Headphones with Hi-Fi Stereo Sound, 8Hrs Playtime, Lightweight Ergonomic Neckban...', 'pTron Tangentbeat Bluetooth 5.0 Wireless Headphones with Deep Bass, Ergonomic Design, IPX4 Sweat/Waterproof Neckband, Magn...', '72,773', '69,794', '18,879', '37,516', '59,069', '36,715', '43,575', '80,884', '16,222', '67,374', '46,465']\n"
          ]
        }
      ]
    },
    {
      "cell_type": "code",
      "source": [
        "import pandas as pd\n",
        "df=pd.DataFrame()\n",
        "df.insert(0,\"data\", result)\n",
        "df.head()"
      ],
      "metadata": {
        "colab": {
          "base_uri": "https://localhost:8080/",
          "height": 267
        },
        "id": "TxEapNOG-Hat",
        "outputId": "47d0d8b8-7148-40e6-9e6a-d821a983f418"
      },
      "execution_count": null,
      "outputs": [
        {
          "output_type": "execute_result",
          "data": {
            "text/html": [
              "\n",
              "  <div id=\"df-329211b6-b0b0-46ac-8902-0e6547c74d6e\">\n",
              "    <div class=\"colab-df-container\">\n",
              "      <div>\n",
              "<style scoped>\n",
              "    .dataframe tbody tr th:only-of-type {\n",
              "        vertical-align: middle;\n",
              "    }\n",
              "\n",
              "    .dataframe tbody tr th {\n",
              "        vertical-align: top;\n",
              "    }\n",
              "\n",
              "    .dataframe thead th {\n",
              "        text-align: right;\n",
              "    }\n",
              "</style>\n",
              "<table border=\"1\" class=\"dataframe\">\n",
              "  <thead>\n",
              "    <tr style=\"text-align: right;\">\n",
              "      <th></th>\n",
              "      <th>data</th>\n",
              "    </tr>\n",
              "  </thead>\n",
              "  <tbody>\n",
              "    <tr>\n",
              "      <th>0</th>\n",
              "      <td>₹799</td>\n",
              "    </tr>\n",
              "    <tr>\n",
              "      <th>1</th>\n",
              "      <td>₹1,495</td>\n",
              "    </tr>\n",
              "    <tr>\n",
              "      <th>2</th>\n",
              "      <td>Amazon's Choicefor \"headphones\"</td>\n",
              "    </tr>\n",
              "    <tr>\n",
              "      <th>3</th>\n",
              "      <td>boAt Bassheads 900 Wired On Ear Headphones wit...</td>\n",
              "    </tr>\n",
              "    <tr>\n",
              "      <th>4</th>\n",
              "      <td>131 Airdopes Stereo Heaset</td>\n",
              "    </tr>\n",
              "  </tbody>\n",
              "</table>\n",
              "</div>\n",
              "      <button class=\"colab-df-convert\" onclick=\"convertToInteractive('df-329211b6-b0b0-46ac-8902-0e6547c74d6e')\"\n",
              "              title=\"Convert this dataframe to an interactive table.\"\n",
              "              style=\"display:none;\">\n",
              "        \n",
              "  <svg xmlns=\"http://www.w3.org/2000/svg\" height=\"24px\"viewBox=\"0 0 24 24\"\n",
              "       width=\"24px\">\n",
              "    <path d=\"M0 0h24v24H0V0z\" fill=\"none\"/>\n",
              "    <path d=\"M18.56 5.44l.94 2.06.94-2.06 2.06-.94-2.06-.94-.94-2.06-.94 2.06-2.06.94zm-11 1L8.5 8.5l.94-2.06 2.06-.94-2.06-.94L8.5 2.5l-.94 2.06-2.06.94zm10 10l.94 2.06.94-2.06 2.06-.94-2.06-.94-.94-2.06-.94 2.06-2.06.94z\"/><path d=\"M17.41 7.96l-1.37-1.37c-.4-.4-.92-.59-1.43-.59-.52 0-1.04.2-1.43.59L10.3 9.45l-7.72 7.72c-.78.78-.78 2.05 0 2.83L4 21.41c.39.39.9.59 1.41.59.51 0 1.02-.2 1.41-.59l7.78-7.78 2.81-2.81c.8-.78.8-2.07 0-2.86zM5.41 20L4 18.59l7.72-7.72 1.47 1.35L5.41 20z\"/>\n",
              "  </svg>\n",
              "      </button>\n",
              "      \n",
              "  <style>\n",
              "    .colab-df-container {\n",
              "      display:flex;\n",
              "      flex-wrap:wrap;\n",
              "      gap: 12px;\n",
              "    }\n",
              "\n",
              "    .colab-df-convert {\n",
              "      background-color: #E8F0FE;\n",
              "      border: none;\n",
              "      border-radius: 50%;\n",
              "      cursor: pointer;\n",
              "      display: none;\n",
              "      fill: #1967D2;\n",
              "      height: 32px;\n",
              "      padding: 0 0 0 0;\n",
              "      width: 32px;\n",
              "    }\n",
              "\n",
              "    .colab-df-convert:hover {\n",
              "      background-color: #E2EBFA;\n",
              "      box-shadow: 0px 1px 2px rgba(60, 64, 67, 0.3), 0px 1px 3px 1px rgba(60, 64, 67, 0.15);\n",
              "      fill: #174EA6;\n",
              "    }\n",
              "\n",
              "    [theme=dark] .colab-df-convert {\n",
              "      background-color: #3B4455;\n",
              "      fill: #D2E3FC;\n",
              "    }\n",
              "\n",
              "    [theme=dark] .colab-df-convert:hover {\n",
              "      background-color: #434B5C;\n",
              "      box-shadow: 0px 1px 3px 1px rgba(0, 0, 0, 0.15);\n",
              "      filter: drop-shadow(0px 1px 2px rgba(0, 0, 0, 0.3));\n",
              "      fill: #FFFFFF;\n",
              "    }\n",
              "  </style>\n",
              "\n",
              "      <script>\n",
              "        const buttonEl =\n",
              "          document.querySelector('#df-329211b6-b0b0-46ac-8902-0e6547c74d6e button.colab-df-convert');\n",
              "        buttonEl.style.display =\n",
              "          google.colab.kernel.accessAllowed ? 'block' : 'none';\n",
              "\n",
              "        async function convertToInteractive(key) {\n",
              "          const element = document.querySelector('#df-329211b6-b0b0-46ac-8902-0e6547c74d6e');\n",
              "          const dataTable =\n",
              "            await google.colab.kernel.invokeFunction('convertToInteractive',\n",
              "                                                     [key], {});\n",
              "          if (!dataTable) return;\n",
              "\n",
              "          const docLinkHtml = 'Like what you see? Visit the ' +\n",
              "            '<a target=\"_blank\" href=https://colab.research.google.com/notebooks/data_table.ipynb>data table notebook</a>'\n",
              "            + ' to learn more about interactive tables.';\n",
              "          element.innerHTML = '';\n",
              "          dataTable['output_type'] = 'display_data';\n",
              "          await google.colab.output.renderOutput(dataTable, element);\n",
              "          const docLink = document.createElement('div');\n",
              "          docLink.innerHTML = docLinkHtml;\n",
              "          element.appendChild(docLink);\n",
              "        }\n",
              "      </script>\n",
              "    </div>\n",
              "  </div>\n",
              "  "
            ],
            "text/plain": [
              "                                                data\n",
              "0                                               ₹799\n",
              "1                                             ₹1,495\n",
              "2                    Amazon's Choicefor \"headphones\"\n",
              "3  boAt Bassheads 900 Wired On Ear Headphones wit...\n",
              "4                         131 Airdopes Stereo Heaset"
            ]
          },
          "metadata": {},
          "execution_count": 21
        }
      ]
    },
    {
      "cell_type": "code",
      "source": [
        "scraper.get_result_similar(amazon_url, grouped=True)"
      ],
      "metadata": {
        "colab": {
          "base_uri": "https://localhost:8080/"
        },
        "id": "1qVJIO77-eLQ",
        "outputId": "ee45acd2-44b1-4270-ed75-c05ad3993a7e"
      },
      "execution_count": null,
      "outputs": [
        {
          "output_type": "execute_result",
          "data": {
            "text/plain": [
              "{'rule_ddni': ['boAt Bassheads 900 Wired On Ear Headphones with Mic (Carbon Black)',\n",
              "  'boAt Rockerz 450 Bluetooth Wireless On Ear Headphone with Mic (Luscious Black)',\n",
              "  'boAt Rockerz 370 Bluetooth Wireless On Ear Headphone with Mic (Buoyant Black)',\n",
              "  'pTron Pride Lite HBE (High Bass Earphones) in-Ear Wired Headphones with in-line Mic, 10mm Powerful Driver for Stereo Audi...',\n",
              "  'boAt Rockerz 510 Wireless Bluetooth On Ear Headphones with Mic (Raging Red)',\n",
              "  'boAt Rockerz 550 Bluetooth Wireless Over Ear Headphone with Mic (Black)',\n",
              "  'boAt Rockerz 550 Bluetooth Wireless Over Ear Headphone with Mic (Black Symphony)',\n",
              "  'Sony MDR-ZX110A Wired On Ear Headphone without Mic (White)',\n",
              "  'ZEBRONICS Zeb-Thunder Wireless Bluetooth Over The Ear Headphone, FM, mSD, 9 hrs Playback with Mic (Blue)',\n",
              "  'boAt Rockerz 370 Bluetooth Wireless On Ear Headphones with Mic Gregarious Green',\n",
              "  'boAt Rockerz 450 Bluetooth Wireless On Ear Headphone with Mic (Aqua Blue)',\n",
              "  'boAt Rockerz 245 v2 Bluetooth Wireless in Ear Earphones with Mic (Active Black)',\n",
              "  'pTron Bassbuds Duo New Bluetooth 5.1 Wireless Headphones, 32Hrs Total Playtime, Stereo Audio, Touch Control TWS, Dual HD M...',\n",
              "  'pTron Pride Lite HBE (High Bass Earphones) in-Ear Wired Headphones with in-line Mic, 10mm Powerful Driver for Stereo Audi...',\n",
              "  'pTron Tangent Lite Bluetooth 5.0 Wireless Headphones with Hi-Fi Stereo Sound, 8Hrs Playtime, Lightweight Ergonomic Neckban...',\n",
              "  'boAt Rockerz 370 Bluetooth Wireless On Ear Headphone with Mic (Fiery Red)'],\n",
              " 'rule_qv6o': ['Amazon\\'s Choicefor \"headphones\"',\n",
              "  'boAt Bassheads 900 Wired On Ear Headphones with Mic (Carbon Black)',\n",
              "  'Best sellerin On-Ear Headphones',\n",
              "  'boAt Rockerz 450 Bluetooth Wireless On Ear Headphone with Mic (Luscious Black)',\n",
              "  'boAt Rockerz 370 Bluetooth Wireless On Ear Headphone with Mic (Buoyant Black)',\n",
              "  'pTron Pride Lite HBE (High Bass Earphones) in-Ear Wired Headphones with in-line Mic, 10mm Powerful Driver for Stereo Audio, Noise Cancelling Headset with 1.2m Tangle-Free Cable & 3.5mm Aux (Gray)',\n",
              "  'boAt Rockerz 510 Wireless Bluetooth On Ear Headphones with Mic (Raging Red)',\n",
              "  'boAt Rockerz 550 Bluetooth Wireless Over Ear Headphone with Mic (Black)',\n",
              "  'boAt Rockerz 550 Bluetooth Wireless Over Ear Headphone with Mic (Black Symphony)',\n",
              "  'Sony MDR-ZX110A Wired On Ear Headphone without Mic (White)',\n",
              "  'ZEBRONICS Zeb-Thunder Wireless Bluetooth Over The Ear Headphone, FM, mSD, 9 hrs Playback with Mic (Blue)',\n",
              "  'boAt Rockerz 370 Bluetooth Wireless On Ear Headphones with Mic Gregarious Green',\n",
              "  'boAt Rockerz 450 Bluetooth Wireless On Ear Headphone with Mic (Aqua Blue)',\n",
              "  'boAt Rockerz 245 v2 Bluetooth Wireless in Ear Earphones with Mic (Active Black)',\n",
              "  'pTron Bassbuds Duo New Bluetooth 5.1 Wireless Headphones, 32Hrs Total Playtime, Stereo Audio, Touch Control TWS, Dual HD Mic, Type-C Fast Charging, IPX4 Water-Resistant & Voice Assistance (Black)',\n",
              "  'pTron Pride Lite HBE (High Bass Earphones) in-Ear Wired Headphones with in-line Mic, 10mm Powerful Driver for Stereo Audio, Noise Cancelling Headset with 1.2m Tangle-Free Cable & 3.5mm Aux - (Blue)',\n",
              "  'pTron Tangent Lite Bluetooth 5.0 Wireless Headphones with Hi-Fi Stereo Sound, 8Hrs Playtime, Lightweight Ergonomic Neckband, Sweat-Resistant Magnetic Earbuds, Voice Assistant & Mic - (Black)',\n",
              "  'boAt Rockerz 370 Bluetooth Wireless On Ear Headphone with Mic (Fiery Red)'],\n",
              " 'rule_qx6r': ['72,773',\n",
              "  '69,794',\n",
              "  '18,879',\n",
              "  '37,516',\n",
              "  '59,069',\n",
              "  '36,716',\n",
              "  '36,716',\n",
              "  '80,884',\n",
              "  '43,575',\n",
              "  '18,879',\n",
              "  '69,794',\n",
              "  '46,914',\n",
              "  '16,224',\n",
              "  '37,516',\n",
              "  '67,374',\n",
              "  '18,879'],\n",
              " 'rule_t2pg': ['₹799', '₹1,495'],\n",
              " 'rule_yidd': ['₹799', '₹1,495']}"
            ]
          },
          "metadata": {},
          "execution_count": 22
        }
      ]
    },
    {
      "cell_type": "markdown",
      "source": [
        ""
      ],
      "metadata": {
        "id": "XDJcKYSIAKNi"
      }
    },
    {
      "cell_type": "code",
      "source": [
        "amazon_url=\"https://www.amazon.in/s?k=iphones\"\n",
        "wanted_list=[\"37,999\",\"Apple iPhone XR (64GB) - (Product) RED\",\"5,346\"]"
      ],
      "metadata": {
        "id": "D4f1z_APALRM"
      },
      "execution_count": null,
      "outputs": []
    },
    {
      "cell_type": "code",
      "source": [
        "scraper=AutoScraper()\n",
        "result=scraper.build(amazon_url,wanted_list )\n",
        "print(result)"
      ],
      "metadata": {
        "colab": {
          "base_uri": "https://localhost:8080/"
        },
        "id": "-mfv4rsiCMa7",
        "outputId": "783cad6d-df50-43c2-f7a4-a0a71e1a3955"
      },
      "execution_count": null,
      "outputs": [
        {
          "output_type": "stream",
          "name": "stdout",
          "text": [
            "['₹799', '₹1,495', 'Amazon\\'s Choicefor \"headphones\"', 'boAt Bassheads 900 Wired On Ear Headphones with Mic (Carbon Black)', 'Best sellerin On-Ear Headphones', 'boAt Rockerz 450 Bluetooth Wireless On Ear Headphone with Mic (Luscious Black)', 'boAt Rockerz 370 Bluetooth Wireless On Ear Headphone with Mic (Buoyant Black)', 'pTron Pride Lite HBE (High Bass Earphones) in-Ear Wired Headphones with in-line Mic, 10mm Powerful Driver for Stereo Audio, Noise Cancelling Headset with 1.2m Tangle-Free Cable & 3.5mm Aux (Gray)', 'boAt Rockerz 510 Wireless Bluetooth On Ear Headphones with Mic (Raging Red)', 'boAt Rockerz 550 Bluetooth Wireless Over Ear Headphone with Mic (Black)', 'boAt Rockerz 550 Bluetooth Wireless Over Ear Headphone with Mic (Black Symphony)', 'ZEBRONICS Zeb-Thunder Wireless Bluetooth Over The Ear Headphone, FM, mSD, 9 hrs Playback with Mic (Blue)', 'Sony MDR-ZX110A Wired On Ear Headphone without Mic (White)', 'boAt Rockerz 370 Bluetooth Wireless On Ear Headphones with Mic Gregarious Green', 'boAt Rockerz 450 Bluetooth Wireless On Ear Headphone with Mic (Aqua Blue)', 'boAt Rockerz 245 v2 Bluetooth Wireless in Ear Earphones with Mic (Active Black)', 'pTron Bassbuds Duo New Bluetooth 5.1 Wireless Headphones, 32Hrs Total Playtime, Stereo Audio, Touch Control TWS, Dual HD Mic, Type-C Fast Charging, IPX4 Water-Resistant & Voice Assistance (Black)', 'pTron Pride Lite HBE (High Bass Earphones) in-Ear Wired Headphones with in-line Mic, 10mm Powerful Driver for Stereo Audio, Noise Cancelling Headset with 1.2m Tangle-Free Cable & 3.5mm Aux - (Blue)', 'pTron Tangent Lite Bluetooth 5.0 Wireless Headphones with Hi-Fi Stereo Sound, 8Hrs Playtime, Lightweight Ergonomic Neckband, Sweat-Resistant Magnetic Earbuds, Voice Assistant & Mic - (Black)', 'boAt Rockerz 370 Bluetooth Wireless On Ear Headphone with Mic (Fiery Red)', 'pTron Pride Lite HBE (High Bass Earphones) in-Ear Wired Headphones with in-line Mic, 10mm Powerful Driver for Stereo Audi...', 'pTron Bassbuds Duo New Bluetooth 5.1 Wireless Headphones, 32Hrs Total Playtime, Stereo Audio, Touch Control TWS, Dual HD M...', 'pTron Tangent Lite Bluetooth 5.0 Wireless Headphones with Hi-Fi Stereo Sound, 8Hrs Playtime, Lightweight Ergonomic Neckban...']\n"
          ]
        }
      ]
    }
  ]
}